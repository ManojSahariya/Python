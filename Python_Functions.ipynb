{
 "cells": [
  {
   "cell_type": "markdown",
   "metadata": {},
   "source": [
    "# What is a Function:\n",
    "\n",
    "Function is a named section of code that performs a specific task. This typically recoeves an input, process the instructions inside the function and returns an output\n",
    "\n",
    "Function are of two types\n",
    "\n",
    "1) Inbuilt Function, Example print(), type(), input()\n",
    "\n",
    "2) User defined function"
   ]
  },
  {
   "cell_type": "code",
   "execution_count": 9,
   "metadata": {},
   "outputs": [],
   "source": [
    "\n",
    "def pubg():\n",
    "    \"\"\" \n",
    "    This is a sample function. \n",
    "    This function will shoot if the enemy exist and will not shoot if enemy does not exist \n",
    "    \"\"\"\n",
    "    enemy = True\n",
    "    if enemy:\n",
    "        print(\"Shoot\")\n",
    "    else:\n",
    "        print(\"Dont shoot\")"
   ]
  },
  {
   "cell_type": "code",
   "execution_count": 10,
   "metadata": {},
   "outputs": [
    {
     "name": "stdout",
     "output_type": "stream",
     "text": [
      "Shoot\n"
     ]
    }
   ],
   "source": [
    "\"\"\" \n",
    "This is how a function is called, or function calling. The function alone as above will not return any results till it is called for. \n",
    "In a similar way you can call the function n number of times instead of repeating the code again and again.\n",
    "\"\"\"\n",
    "pubg()"
   ]
  },
  {
   "cell_type": "code",
   "execution_count": 1,
   "metadata": {},
   "outputs": [
    {
     "ename": "NameError",
     "evalue": "name 'pubg' is not defined",
     "output_type": "error",
     "traceback": [
      "\u001b[1;31m---------------------------------------------------------------------------\u001b[0m",
      "\u001b[1;31mNameError\u001b[0m                                 Traceback (most recent call last)",
      "\u001b[1;32m~\\AppData\\Local\\Temp/ipykernel_11128/350319196.py\u001b[0m in \u001b[0;36m<module>\u001b[1;34m\u001b[0m\n\u001b[0;32m      1\u001b[0m \u001b[1;31m# You can read all official documentation by using below command for both inbuilt and user defined functions.\u001b[0m\u001b[1;33m\u001b[0m\u001b[1;33m\u001b[0m\u001b[0m\n\u001b[1;32m----> 2\u001b[1;33m \u001b[0mprint\u001b[0m\u001b[1;33m(\u001b[0m\u001b[0mpubg\u001b[0m\u001b[1;33m.\u001b[0m\u001b[0m__doc__\u001b[0m\u001b[1;33m)\u001b[0m\u001b[1;33m\u001b[0m\u001b[1;33m\u001b[0m\u001b[0m\n\u001b[0m\u001b[0;32m      3\u001b[0m \u001b[0mprint\u001b[0m\u001b[1;33m(\u001b[0m\u001b[0mprint\u001b[0m\u001b[1;33m.\u001b[0m\u001b[0m__doc__\u001b[0m\u001b[1;33m)\u001b[0m\u001b[1;33m\u001b[0m\u001b[1;33m\u001b[0m\u001b[0m\n\u001b[0;32m      4\u001b[0m \u001b[0mprint\u001b[0m\u001b[1;33m(\u001b[0m\u001b[0mlen\u001b[0m\u001b[1;33m.\u001b[0m\u001b[0m__dod__\u001b[0m\u001b[1;33m)\u001b[0m\u001b[1;33m\u001b[0m\u001b[1;33m\u001b[0m\u001b[0m\n",
      "\u001b[1;31mNameError\u001b[0m: name 'pubg' is not defined"
     ]
    }
   ],
   "source": [
    "# You can read all official documentation by using below command for both inbuilt and user defined functions.\n",
    "print(pubg.__doc__)\n",
    "print(print.__doc__)\n",
    "print(len.__doc__)"
   ]
  },
  {
   "cell_type": "code",
   "execution_count": 8,
   "metadata": {},
   "outputs": [],
   "source": [
    "def odd_even(num):\n",
    "    \"\"\"\n",
    "    This function will return 'Even' if a number is divisible by 2 or else return 'Odd'\n",
    "    The return function instead of print will return the value, which should be recieved in a variable while calling the\n",
    "    function, here the odd, even value is recieved in the out variable and printed while calling the function.\n",
    "    \"\"\"\n",
    "    if type(num) == int:\n",
    "        if num % 2== 0:\n",
    "            #print(\"Number is even\")\n",
    "            return \"Even\"\n",
    "        else:\n",
    "            #print(\"Number is odd\")\n",
    "            return \"Odd\"\n",
    "    else:\n",
    "        return \"Enter correct datatype!!\"\n",
    "    "
   ]
  },
  {
   "cell_type": "code",
   "execution_count": 9,
   "metadata": {},
   "outputs": [
    {
     "name": "stdout",
     "output_type": "stream",
     "text": [
      "Enter correct datatype!!\n"
     ]
    }
   ],
   "source": [
    "out = odd_even(\"Manoj\")\n",
    "print(out)"
   ]
  },
  {
   "cell_type": "markdown",
   "metadata": {},
   "source": [
    "# Parameter and Arguments\n",
    "The placeholder when you define a function is called a parameter and the variables you pass while calling the same function is called a Argument.\n",
    "We can also say a Parameter is a placeholder for the Arguments"
   ]
  },
  {
   "cell_type": "markdown",
   "metadata": {},
   "source": [
    "## Types of Argument\n",
    "1. Default Arguments\n",
    "2. Positional Arguments\n",
    "3. Keyword Arguments"
   ]
  },
  {
   "cell_type": "code",
   "execution_count": 11,
   "metadata": {},
   "outputs": [],
   "source": [
    "# Default Argument\n",
    "def power(a = 2,b= 3):\n",
    "    \"\"\"\n",
    "    This is an example of a default Argument, if no arguments are passed while calling the function, the default value of \n",
    "    a will be 2 and b will be 3. So the output in case of no arguments will always be 8\n",
    "    \"\"\"\n",
    "    pow = a**b\n",
    "    return pow"
   ]
  },
  {
   "cell_type": "code",
   "execution_count": 13,
   "metadata": {},
   "outputs": [
    {
     "name": "stdout",
     "output_type": "stream",
     "text": [
      "8\n"
     ]
    }
   ],
   "source": [
    "out = power()\n",
    "print(out)"
   ]
  },
  {
   "cell_type": "code",
   "execution_count": 14,
   "metadata": {},
   "outputs": [],
   "source": [
    "# Positional Argument\n",
    "def power(a,b):\n",
    "    \"\"\"\n",
    "    This is an example of a Positional Argument, the arguments passed will depend on the position of parameters defined while \n",
    "    creating the function.\n",
    "    \"\"\"\n",
    "    pow = a**b\n",
    "    return pow"
   ]
  },
  {
   "cell_type": "code",
   "execution_count": 15,
   "metadata": {},
   "outputs": [
    {
     "name": "stdout",
     "output_type": "stream",
     "text": [
      "15625\n"
     ]
    }
   ],
   "source": [
    "out = power(5,6)\n",
    "print (out)"
   ]
  },
  {
   "cell_type": "code",
   "execution_count": 16,
   "metadata": {},
   "outputs": [],
   "source": [
    "# Keyword Argument\n",
    "def power(a,b):\n",
    "    \"\"\"\n",
    "    This is an example of a Keyword Argument, the arguments passed will depend on the keyword instead of position while passing\n",
    "    the arguments while calling the function. Check below two examples where the output is same although the \n",
    "    arguments are interchanged wrt their positions.\n",
    "    \"\"\"\n",
    "    pow = a**b\n",
    "    return pow"
   ]
  },
  {
   "cell_type": "code",
   "execution_count": 17,
   "metadata": {},
   "outputs": [
    {
     "name": "stdout",
     "output_type": "stream",
     "text": [
      "2187\n"
     ]
    }
   ],
   "source": [
    "out = power(a = 3, b = 7)\n",
    "print(out)"
   ]
  },
  {
   "cell_type": "code",
   "execution_count": 18,
   "metadata": {},
   "outputs": [
    {
     "name": "stdout",
     "output_type": "stream",
     "text": [
      "2187\n"
     ]
    }
   ],
   "source": [
    "out = power(b = 7, a = 3)\n",
    "print(out)"
   ]
  },
  {
   "cell_type": "markdown",
   "metadata": {},
   "source": [
    "# *Args & **Kwargs\n",
    "args and kwargs are special python keywords that are used to pass the variale length of arguments to a function"
   ]
  },
  {
   "cell_type": "code",
   "execution_count": 24,
   "metadata": {},
   "outputs": [],
   "source": [
    "\n",
    "def adds(*args):\n",
    "    \"\"\"\n",
    "    *args allows to pass any number of non keyword arguments while calling a function\n",
    "    the args actually form a tuple, check the print output of args.\n",
    "    *args is just a representation, you can use anything instead of args, just a * infront of the text identifies if as a \n",
    "    args \n",
    "    \"\"\"\n",
    "    output = 0\n",
    "\n",
    "    for i in args:\n",
    "        output = output + i\n",
    "    print(args)\n",
    "    return output"
   ]
  },
  {
   "cell_type": "code",
   "execution_count": 25,
   "metadata": {},
   "outputs": [
    {
     "name": "stdout",
     "output_type": "stream",
     "text": [
      "(2, 3, 4, 5, 6, 7, 8)\n",
      "35\n"
     ]
    }
   ],
   "source": [
    "out = adds(2,3,4,5,6,7,8)\n",
    "print(out)"
   ]
  },
  {
   "cell_type": "code",
   "execution_count": 47,
   "metadata": {},
   "outputs": [],
   "source": [
    "def state_capital(**kwargs):\n",
    "    \"\"\"\n",
    "    **Kwargs allows to pass any number of keyword arguments while calling a function\n",
    "    the kwargs actually form a dictionary, check the print output of kwargs.\n",
    "    **kwargs is just a representation, you can use anything instead of kwargs, just a ** infront of the text identifies if as a \n",
    "    kwargs \n",
    "    \"\"\"\n",
    " \n",
    "    for (key, value) in kwargs.items():\n",
    "        #return key, '->', value\n",
    "        print(key,'->',value)\n",
    "    print(kwargs)"
   ]
  },
  {
   "cell_type": "code",
   "execution_count": 48,
   "metadata": {},
   "outputs": [
    {
     "name": "stdout",
     "output_type": "stream",
     "text": [
      "maharastra -> mumbai\n",
      "madhyapradesh -> bhopal\n",
      "{'maharastra': 'mumbai', 'madhyapradesh': 'bhopal'}\n",
      "None\n"
     ]
    }
   ],
   "source": [
    "out = state_capital(maharastra='mumbai', madhyapradesh= 'bhopal')\n",
    "print(out)"
   ]
  },
  {
   "cell_type": "markdown",
   "metadata": {},
   "source": [
    "# Nested Function"
   ]
  },
  {
   "cell_type": "code",
   "execution_count": 1,
   "metadata": {},
   "outputs": [],
   "source": [
    "def g():\n",
    "    \"\"\" This is function inside function, the output is for function g as function f is not called\"\"\"\n",
    "    def f():\n",
    "        print(\"inside function f\")\n",
    "    \n",
    "    print(\"inside function g\")"
   ]
  },
  {
   "cell_type": "code",
   "execution_count": 2,
   "metadata": {},
   "outputs": [
    {
     "name": "stdout",
     "output_type": "stream",
     "text": [
      "inside function g\n"
     ]
    }
   ],
   "source": [
    "g()"
   ]
  },
  {
   "cell_type": "code",
   "execution_count": 3,
   "metadata": {},
   "outputs": [],
   "source": [
    "def g():\n",
    "    \"\"\" Calling function f here will give error because it is under g and g is not called.\"\"\"\n",
    "    def f():\n",
    "        print(\"inside function f\")\n",
    "    \n",
    "    print(\"inside function g\")"
   ]
  },
  {
   "cell_type": "code",
   "execution_count": 4,
   "metadata": {},
   "outputs": [
    {
     "ename": "NameError",
     "evalue": "name 'f' is not defined",
     "output_type": "error",
     "traceback": [
      "\u001b[1;31m---------------------------------------------------------------------------\u001b[0m",
      "\u001b[1;31mNameError\u001b[0m                                 Traceback (most recent call last)",
      "\u001b[1;32m~\\AppData\\Local\\Temp/ipykernel_20916/3782956317.py\u001b[0m in \u001b[0;36m<module>\u001b[1;34m\u001b[0m\n\u001b[1;32m----> 1\u001b[1;33m \u001b[0mf\u001b[0m\u001b[1;33m(\u001b[0m\u001b[1;33m)\u001b[0m\u001b[1;33m\u001b[0m\u001b[1;33m\u001b[0m\u001b[0m\n\u001b[0m",
      "\u001b[1;31mNameError\u001b[0m: name 'f' is not defined"
     ]
    }
   ],
   "source": [
    "f()"
   ]
  },
  {
   "cell_type": "code",
   "execution_count": 7,
   "metadata": {},
   "outputs": [],
   "source": [
    "def g():\n",
    "    \"\"\" In this example output of the fucntion is printed while calling function g.\n",
    "    Inside function f , f is called\"\"\"\n",
    "    def f():\n",
    "        print(\"inside function f\")\n",
    "    f()\n",
    "    print(\"inside function g\")"
   ]
  },
  {
   "cell_type": "code",
   "execution_count": 9,
   "metadata": {},
   "outputs": [
    {
     "name": "stdout",
     "output_type": "stream",
     "text": [
      "inside function f\n",
      "inside function g\n"
     ]
    }
   ],
   "source": [
    "g()"
   ]
  },
  {
   "cell_type": "markdown",
   "metadata": {},
   "source": [
    "# Benefits of using a function\n",
    "1. Code reusability\n",
    "2. Code readaility\n",
    "3. Code Modularity"
   ]
  },
  {
   "cell_type": "markdown",
   "metadata": {},
   "source": [
    "# Lambda Function\n",
    "A lambda function is a small anonyous function\n",
    "\n",
    "syntax - lambda a,b: a+b\n",
    "\n",
    "here lambda is the keyword, which creates the lambda expression\n",
    "\n",
    "a & b are the parameters which should be separated by , and no paranthesis \n",
    "\n",
    "a+b is the expression, which should be a single valid python expression,\n",
    "\n",
    "and : is the separtor separating paramter from the expression"
   ]
  },
  {
   "cell_type": "code",
   "execution_count": 3,
   "metadata": {},
   "outputs": [
    {
     "name": "stdout",
     "output_type": "stream",
     "text": [
      "6\n"
     ]
    }
   ],
   "source": [
    "def product (a,b):\n",
    "    print (a*b)\n",
    "\n",
    "product (2,3)\n"
   ]
  },
  {
   "cell_type": "code",
   "execution_count": 7,
   "metadata": {},
   "outputs": [
    {
     "data": {
      "text/plain": [
       "6"
      ]
     },
     "execution_count": 7,
     "metadata": {},
     "output_type": "execute_result"
    }
   ],
   "source": [
    "a = lambda a,b : a*b\n",
    "a(2,3)"
   ]
  },
  {
   "cell_type": "code",
   "execution_count": 9,
   "metadata": {},
   "outputs": [
    {
     "data": {
      "text/plain": [
       "True"
      ]
     },
     "execution_count": 9,
     "metadata": {},
     "output_type": "execute_result"
    }
   ],
   "source": [
    "b = lambda s : 'e' in s\n",
    "b(\"hello\")"
   ]
  },
  {
   "cell_type": "code",
   "execution_count": 11,
   "metadata": {},
   "outputs": [
    {
     "name": "stdout",
     "output_type": "stream",
     "text": [
      "odd\n"
     ]
    }
   ],
   "source": [
    "c = lambda a : print(\"even\") if a % 2 == 0 else print(\"odd\")\n",
    "c(17)"
   ]
  },
  {
   "cell_type": "code",
   "execution_count": 18,
   "metadata": {},
   "outputs": [
    {
     "name": "stdout",
     "output_type": "stream",
     "text": [
      "4\n",
      "9\n",
      "16\n",
      "25\n"
     ]
    }
   ],
   "source": [
    "def square(a):\n",
    "    return a**2\n",
    "\n",
    "l = [2,3,4,5]\n",
    "\n",
    "for i in l:\n",
    "    out = square(i)\n",
    "    print(out)\n",
    "\n"
   ]
  },
  {
   "cell_type": "code",
   "execution_count": 22,
   "metadata": {},
   "outputs": [
    {
     "data": {
      "text/plain": [
       "9"
      ]
     },
     "execution_count": 22,
     "metadata": {},
     "output_type": "execute_result"
    }
   ],
   "source": [
    "x = lambda a : square(a)\n",
    "x(3)"
   ]
  },
  {
   "cell_type": "markdown",
   "metadata": {},
   "source": [
    "# Map ()\n",
    "The map() function executes a specified function for each item in an iterable. The item is sent to the function as a parameter.\n",
    "\n",
    "map(function, iterables)\n",
    "\n",
    "Use Lambda in the function requirement"
   ]
  },
  {
   "cell_type": "code",
   "execution_count": 1,
   "metadata": {},
   "outputs": [],
   "source": [
    "l = [2,3,4,5,6]\n",
    "\n",
    "def square(l):\n",
    "    for i in l:\n",
    "        print(i**2)"
   ]
  },
  {
   "cell_type": "code",
   "execution_count": 2,
   "metadata": {},
   "outputs": [
    {
     "name": "stdout",
     "output_type": "stream",
     "text": [
      "4\n",
      "9\n",
      "16\n",
      "25\n",
      "36\n"
     ]
    }
   ],
   "source": [
    "square(l)"
   ]
  },
  {
   "cell_type": "code",
   "execution_count": 7,
   "metadata": {},
   "outputs": [],
   "source": [
    "a = list(map(lambda x : x**2,l))"
   ]
  },
  {
   "cell_type": "code",
   "execution_count": 8,
   "metadata": {},
   "outputs": [
    {
     "data": {
      "text/plain": [
       "[4, 9, 16, 25, 36]"
      ]
     },
     "execution_count": 8,
     "metadata": {},
     "output_type": "execute_result"
    }
   ],
   "source": [
    "a"
   ]
  },
  {
   "cell_type": "code",
   "execution_count": 27,
   "metadata": {},
   "outputs": [],
   "source": [
    "# odd even example\n",
    "c = list(map(lambda x : 'Even' if x%2==0 else 'Odd',l))"
   ]
  },
  {
   "cell_type": "code",
   "execution_count": 28,
   "metadata": {},
   "outputs": [
    {
     "data": {
      "text/plain": [
       "['Even', 'Odd', 'Even', 'Odd', 'Even']"
      ]
     },
     "execution_count": 28,
     "metadata": {},
     "output_type": "execute_result"
    }
   ],
   "source": [
    "c"
   ]
  },
  {
   "cell_type": "markdown",
   "metadata": {},
   "source": [
    "# Filter ()\n",
    "\n",
    "filter(function, iterables)"
   ]
  },
  {
   "cell_type": "code",
   "execution_count": 29,
   "metadata": {},
   "outputs": [],
   "source": [
    "d = list(filter(lambda x : x > 3,l))"
   ]
  },
  {
   "cell_type": "code",
   "execution_count": 30,
   "metadata": {},
   "outputs": [
    {
     "data": {
      "text/plain": [
       "[4, 5, 6]"
      ]
     },
     "execution_count": 30,
     "metadata": {},
     "output_type": "execute_result"
    }
   ],
   "source": [
    "d"
   ]
  },
  {
   "cell_type": "code",
   "execution_count": 32,
   "metadata": {},
   "outputs": [
    {
     "data": {
      "text/plain": [
       "['apple']"
      ]
     },
     "execution_count": 32,
     "metadata": {},
     "output_type": "execute_result"
    }
   ],
   "source": [
    "fruits = ['apple','banana','mango']\n",
    "\n",
    "list(filter(lambda x : x.startswith('a'), fruits))"
   ]
  },
  {
   "cell_type": "markdown",
   "metadata": {},
   "source": [
    "# reduce()\n",
    "\n",
    "You cannot use reduce function directly, functools lirary should be imported\n"
   ]
  },
  {
   "cell_type": "code",
   "execution_count": 33,
   "metadata": {},
   "outputs": [],
   "source": [
    "import functools"
   ]
  },
  {
   "cell_type": "code",
   "execution_count": 36,
   "metadata": {},
   "outputs": [
    {
     "data": {
      "text/plain": [
       "32"
      ]
     },
     "execution_count": 36,
     "metadata": {},
     "output_type": "execute_result"
    }
   ],
   "source": [
    "L = [2,4,5,6,7,8]\n",
    "functools.reduce(lambda x,y : x+y,L)"
   ]
  },
  {
   "cell_type": "code",
   "execution_count": 37,
   "metadata": {},
   "outputs": [
    {
     "data": {
      "text/plain": [
       "8"
      ]
     },
     "execution_count": 37,
     "metadata": {},
     "output_type": "execute_result"
    }
   ],
   "source": [
    "# find the greatest number from the list\n",
    "functools.reduce(lambda x,y : x if x>y else y,L)"
   ]
  }
 ],
 "metadata": {
  "kernelspec": {
   "display_name": "base",
   "language": "python",
   "name": "python3"
  },
  "language_info": {
   "codemirror_mode": {
    "name": "ipython",
    "version": 3
   },
   "file_extension": ".py",
   "mimetype": "text/x-python",
   "name": "python",
   "nbconvert_exporter": "python",
   "pygments_lexer": "ipython3",
   "version": "3.9.7"
  }
 },
 "nbformat": 4,
 "nbformat_minor": 2
}
